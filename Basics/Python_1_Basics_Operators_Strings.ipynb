{
  "nbformat": 4,
  "nbformat_minor": 0,
  "metadata": {
    "colab": {
      "provenance": []
    },
    "kernelspec": {
      "name": "python3",
      "display_name": "Python 3"
    },
    "language_info": {
      "name": "python"
    }
  },
  "cells": [
    {
      "cell_type": "code",
      "execution_count": null,
      "metadata": {
        "colab": {
          "base_uri": "https://localhost:8080/"
        },
        "id": "f3O89P02_a32",
        "outputId": "36f84851-dbee-4894-bf0b-07a28c28b48e"
      },
      "outputs": [
        {
          "output_type": "stream",
          "name": "stdout",
          "text": [
            "Hello 1 4.5 True\n"
          ]
        }
      ],
      "source": [
        "print('Hello',1,4.5,True)"
      ]
    },
    {
      "cell_type": "code",
      "source": [
        "print('Hello',1,4.5,True,sep='/')"
      ],
      "metadata": {
        "colab": {
          "base_uri": "https://localhost:8080/"
        },
        "id": "-TuoVpkD_in3",
        "outputId": "1fcb3319-7a9d-48df-8365-752e0329effe"
      },
      "execution_count": null,
      "outputs": [
        {
          "output_type": "stream",
          "name": "stdout",
          "text": [
            "Hello/1/4.5/True\n"
          ]
        }
      ]
    },
    {
      "cell_type": "code",
      "source": [
        "print('Hello',end='-')\n",
        "print('World')"
      ],
      "metadata": {
        "colab": {
          "base_uri": "https://localhost:8080/"
        },
        "id": "7TtFf4rE_kX7",
        "outputId": "e27f0970-cf3f-46cd-93ee-53c498dd4bbb"
      },
      "execution_count": null,
      "outputs": [
        {
          "output_type": "stream",
          "name": "stdout",
          "text": [
            "Hello-World\n"
          ]
        }
      ]
    },
    {
      "cell_type": "markdown",
      "source": [
        "Data Types"
      ],
      "metadata": {
        "id": "5hnRjF57_rur"
      }
    },
    {
      "cell_type": "code",
      "source": [
        "#Integer\n",
        "print(8)\n",
        "#1*10^308\n",
        "print(1e309)"
      ],
      "metadata": {
        "colab": {
          "base_uri": "https://localhost:8080/"
        },
        "id": "ReWWosU8_vZU",
        "outputId": "0dbe3bdb-4688-4ccc-d456-fa47a8dd899f"
      },
      "execution_count": null,
      "outputs": [
        {
          "output_type": "stream",
          "name": "stdout",
          "text": [
            "8\n",
            "inf\n"
          ]
        }
      ]
    },
    {
      "cell_type": "code",
      "source": [
        "#Decimal/Integer\n",
        "print(8.55)\n",
        "print(1.7e309)"
      ],
      "metadata": {
        "colab": {
          "base_uri": "https://localhost:8080/"
        },
        "id": "3Qm-e0ZE_xd0",
        "outputId": "74c8f07f-7b8a-47a4-81da-24b872ac6f74"
      },
      "execution_count": null,
      "outputs": [
        {
          "output_type": "stream",
          "name": "stdout",
          "text": [
            "8.55\n",
            "inf\n"
          ]
        }
      ]
    },
    {
      "cell_type": "code",
      "source": [
        "#Boolean\n",
        "print(True)\n",
        "print(False)"
      ],
      "metadata": {
        "colab": {
          "base_uri": "https://localhost:8080/"
        },
        "id": "RvAGKKAf_2Nh",
        "outputId": "c7e3a5d2-ece3-4a35-ebb1-bd4b5e95bcf1"
      },
      "execution_count": null,
      "outputs": [
        {
          "output_type": "stream",
          "name": "stdout",
          "text": [
            "True\n",
            "False\n"
          ]
        }
      ]
    },
    {
      "cell_type": "code",
      "source": [
        "#Text/String\n",
        "print('Hello World')"
      ],
      "metadata": {
        "colab": {
          "base_uri": "https://localhost:8080/"
        },
        "id": "ztSPVWIe_7PU",
        "outputId": "e394983c-e8e1-4e60-c8a5-b882a44506b2"
      },
      "execution_count": null,
      "outputs": [
        {
          "output_type": "stream",
          "name": "stdout",
          "text": [
            "Hello World\n"
          ]
        }
      ]
    },
    {
      "cell_type": "code",
      "source": [
        "#Complex No\n",
        "print(5+6j)"
      ],
      "metadata": {
        "colab": {
          "base_uri": "https://localhost:8080/"
        },
        "id": "BVef61TF__7J",
        "outputId": "698df4c5-7ee8-425f-f4b4-a36bd0bdd2b0"
      },
      "execution_count": null,
      "outputs": [
        {
          "output_type": "stream",
          "name": "stdout",
          "text": [
            "(5+6j)\n"
          ]
        }
      ]
    },
    {
      "cell_type": "code",
      "source": [
        "#List -> C->Array\n",
        "print([1,2,3,4,5])"
      ],
      "metadata": {
        "colab": {
          "base_uri": "https://localhost:8080/"
        },
        "id": "XxYv0L1QADuL",
        "outputId": "b7cdf6fd-d0ee-4d6a-8887-e1e5ca5fc39a"
      },
      "execution_count": null,
      "outputs": [
        {
          "output_type": "stream",
          "name": "stdout",
          "text": [
            "[1, 2, 3, 4, 5]\n"
          ]
        }
      ]
    },
    {
      "cell_type": "code",
      "source": [
        "# Tuple\n",
        "print((1,2,3,4,5))"
      ],
      "metadata": {
        "colab": {
          "base_uri": "https://localhost:8080/"
        },
        "id": "8OSqStbTAHaK",
        "outputId": "61c8f2da-4f37-43d0-c096-fbe26e361f3a"
      },
      "execution_count": null,
      "outputs": [
        {
          "output_type": "stream",
          "name": "stdout",
          "text": [
            "(1, 2, 3, 4, 5)\n"
          ]
        }
      ]
    },
    {
      "cell_type": "code",
      "source": [
        "# Sets\n",
        "print({1,2,3,4,5})"
      ],
      "metadata": {
        "colab": {
          "base_uri": "https://localhost:8080/"
        },
        "id": "Y4IVcjN7AL_W",
        "outputId": "ad2c89ef-c3a2-4d4d-857b-cf965804175c"
      },
      "execution_count": null,
      "outputs": [
        {
          "output_type": "stream",
          "name": "stdout",
          "text": [
            "{1, 2, 3, 4, 5}\n"
          ]
        }
      ]
    },
    {
      "cell_type": "code",
      "source": [
        "# Dictionary -> Key : Value pair\n",
        "print({'name':'siddhi','age':'20','gender':'female'})"
      ],
      "metadata": {
        "colab": {
          "base_uri": "https://localhost:8080/"
        },
        "id": "l5w8MMA_APY8",
        "outputId": "6169731d-48fd-47e9-8c5c-e872c1ab0139"
      },
      "execution_count": null,
      "outputs": [
        {
          "output_type": "stream",
          "name": "stdout",
          "text": [
            "{'name': 'siddhi', 'age': '20', 'gender': 'female'}\n"
          ]
        }
      ]
    },
    {
      "cell_type": "code",
      "source": [
        "# type\n",
        "type(2)"
      ],
      "metadata": {
        "colab": {
          "base_uri": "https://localhost:8080/"
        },
        "id": "G7q_NvdLATo0",
        "outputId": "f1eb87d1-cd8d-4ef1-e7a2-657cda9a1bce"
      },
      "execution_count": null,
      "outputs": [
        {
          "output_type": "execute_result",
          "data": {
            "text/plain": [
              "int"
            ]
          },
          "metadata": {},
          "execution_count": 13
        }
      ]
    },
    {
      "cell_type": "markdown",
      "source": [
        "Variables - containers to store value"
      ],
      "metadata": {
        "id": "jSK-TL1eAXcs"
      }
    },
    {
      "cell_type": "code",
      "source": [
        "name = 'siddhi'\n",
        "print('My name is',name)\n",
        "\n",
        "a = 5\n",
        "b = 7\n",
        "print(a+b)"
      ],
      "metadata": {
        "colab": {
          "base_uri": "https://localhost:8080/"
        },
        "id": "Zb4FZ95HAb3D",
        "outputId": "d621f668-f846-49a6-8ef8-c838c6bc050c"
      },
      "execution_count": null,
      "outputs": [
        {
          "output_type": "stream",
          "name": "stdout",
          "text": [
            "My name is siddhi\n",
            "12\n"
          ]
        }
      ]
    },
    {
      "cell_type": "code",
      "source": [
        "# Dynamic Typing - Where you dont need to specify the data type while declaring variable , pythom=n interpreter directly understands it .\n",
        "a = 5\n",
        "# Static Typing - Where you need to specify the data type while declaring variable\n",
        "int b = 7\n",
        "# Python supports Dynamic typing"
      ],
      "metadata": {
        "id": "zQVblsmHAfUe"
      },
      "execution_count": null,
      "outputs": []
    },
    {
      "cell_type": "code",
      "source": [
        "# Dynamic Binding - It can hold any type of Data Type\n",
        "a = 5\n",
        "print(a)\n",
        "a = 'siddhi'\n",
        "print(a)\n",
        "\n",
        "# Static Binding - Once Data Type declared cant change\n",
        "int a = 7"
      ],
      "metadata": {
        "colab": {
          "base_uri": "https://localhost:8080/"
        },
        "id": "nrw8K5uYAm2U",
        "outputId": "e9f2bf8d-02eb-48f8-e285-7d81e5936857"
      },
      "execution_count": null,
      "outputs": [
        {
          "output_type": "stream",
          "name": "stdout",
          "text": [
            "5\n",
            "siddhi\n"
          ]
        }
      ]
    },
    {
      "cell_type": "code",
      "source": [
        "# Ways or Styles of declaring Variables\n",
        "a = 1\n",
        "b = 2\n",
        "c = 3\n",
        "print(a,b,c)"
      ],
      "metadata": {
        "colab": {
          "base_uri": "https://localhost:8080/"
        },
        "id": "gUEdMsrOA43l",
        "outputId": "87f0399f-c5a9-4186-c900-0cc24a1e9cd4"
      },
      "execution_count": null,
      "outputs": [
        {
          "output_type": "stream",
          "name": "stdout",
          "text": [
            "1 2 3\n"
          ]
        }
      ]
    },
    {
      "cell_type": "code",
      "source": [
        "a,b,c=(1,2,3)\n",
        "print(a,b,c)"
      ],
      "metadata": {
        "colab": {
          "base_uri": "https://localhost:8080/"
        },
        "id": "DmDkEBhpA8TK",
        "outputId": "383a8d9f-514d-458a-8b1b-c80868560c4b"
      },
      "execution_count": null,
      "outputs": [
        {
          "output_type": "stream",
          "name": "stdout",
          "text": [
            "1 2 3\n"
          ]
        }
      ]
    },
    {
      "cell_type": "code",
      "source": [
        "a=b=c=5\n",
        "print(a,b,c)"
      ],
      "metadata": {
        "colab": {
          "base_uri": "https://localhost:8080/"
        },
        "id": "9wQ-zzN5BAjV",
        "outputId": "b0249fa4-f7c1-4639-db3f-03e04aba98eb"
      },
      "execution_count": null,
      "outputs": [
        {
          "output_type": "stream",
          "name": "stdout",
          "text": [
            "5 5 5\n"
          ]
        }
      ]
    },
    {
      "cell_type": "markdown",
      "source": [
        "Keywords & Identifiers"
      ],
      "metadata": {
        "id": "sZ5pxcgNBJAt"
      }
    },
    {
      "cell_type": "code",
      "source": [
        "#Keywords - Certain words which arereserved by compilers or interpreter\n",
        "# Identifiers\n",
        "# You can't start with a digit\n",
        "# You can use only _\n",
        "# Case Sensitive\n",
        "# You can't use keywords"
      ],
      "metadata": {
        "id": "_YCz0vRgBDW3"
      },
      "execution_count": null,
      "outputs": []
    },
    {
      "cell_type": "code",
      "source": [
        "# take input from user and store them into variable\n",
        "fnum = input('Enter first number ')\n",
        "snum = input('Enter second number ')\n",
        "# add two variables\n",
        "result = int(fnum)+ int(snum)\n",
        "# print the result\n",
        "print(result)\n",
        "print(type(fnum))"
      ],
      "metadata": {
        "colab": {
          "base_uri": "https://localhost:8080/"
        },
        "id": "xFy2IhcCBMm5",
        "outputId": "23a59e3f-39ff-4652-c64b-f8851292b92b"
      },
      "execution_count": null,
      "outputs": [
        {
          "output_type": "stream",
          "name": "stdout",
          "text": [
            "Enter first number 12\n",
            "Enter second number 14\n",
            "26\n",
            "<class 'str'>\n"
          ]
        }
      ]
    },
    {
      "cell_type": "markdown",
      "source": [
        "Type Conversion"
      ],
      "metadata": {
        "id": "OGt-Gr5yBc_s"
      }
    },
    {
      "cell_type": "code",
      "source": [
        "# Implicit - done internally automatically by interpreter\n",
        "print(5+5.5)\n",
        "print(type(5),type(5.5))"
      ],
      "metadata": {
        "colab": {
          "base_uri": "https://localhost:8080/"
        },
        "id": "obXPJGZLBTJB",
        "outputId": "c9016ab9-ec2a-4d4d-a1b4-3914e37e2132"
      },
      "execution_count": null,
      "outputs": [
        {
          "output_type": "stream",
          "name": "stdout",
          "text": [
            "10.5\n",
            "<class 'int'> <class 'float'>\n"
          ]
        }
      ]
    },
    {
      "cell_type": "code",
      "source": [
        "# Explicit - done my user\n",
        "# str -> int\n",
        "print(type(int('5')))\n",
        "#  int to str\n",
        "print(type(str(5)))\n",
        "# float\n",
        "float(5)\n",
        "print(type(float(5)))"
      ],
      "metadata": {
        "colab": {
          "base_uri": "https://localhost:8080/"
        },
        "id": "o00jyoGFBk5P",
        "outputId": "0b2c0c46-4cb7-4d66-d6f6-ae03ebb1e8b5"
      },
      "execution_count": null,
      "outputs": [
        {
          "output_type": "stream",
          "name": "stdout",
          "text": [
            "<class 'int'>\n",
            "<class 'str'>\n",
            "<class 'float'>\n"
          ]
        }
      ]
    },
    {
      "cell_type": "markdown",
      "source": [
        "Literals"
      ],
      "metadata": {
        "id": "_35wYBClBwHt"
      }
    },
    {
      "cell_type": "code",
      "source": [
        "# Literals - Raw value which you store / value of variable\n",
        "\n",
        "a = 0b1010 # Binary Literal\n",
        "b = 100 # Decimal Literal\n",
        "c = 0o310 # Octal Literal\n",
        "d = 0x12c # Hexadecimal Literal\n",
        "\n",
        "# Float Literal\n",
        "float_1 = 10.5\n",
        "float_2 = 1.5e2 # 1.5 * 10^2\n",
        "float_3 = 1.5e-3 # 1.5 * 10^-3\n",
        "\n",
        "# Complex Literal\n",
        "x = 3.14j\n",
        "\n",
        "print(a,b,c,d)\n",
        "print(float_1,float_2,float_3)\n",
        "print(x,x.imag,x.real)"
      ],
      "metadata": {
        "colab": {
          "base_uri": "https://localhost:8080/"
        },
        "id": "JXUDTzPTBoGX",
        "outputId": "e7d79fda-8d18-47cd-fb45-c5eb67cddb94"
      },
      "execution_count": null,
      "outputs": [
        {
          "output_type": "stream",
          "name": "stdout",
          "text": [
            "10 100 200 300\n",
            "10.5 150.0 0.0015\n",
            "3.14j 3.14 0.0\n"
          ]
        }
      ]
    },
    {
      "cell_type": "code",
      "source": [
        "string = 'This is Python'\n",
        "strings = \"This is Python\"\n",
        "char = \"C\"\n",
        "multiline_str = \"\"\"This is a multiline string with more than one line code.\"\"\"\n",
        "unicode = u\"\\U0001f600\\U0001f606\\U0001f923\"\n",
        "raw_str = r\"raw \\n string\"\n",
        "\n",
        "print(string)\n",
        "print(strings)\n",
        "print(char)\n",
        "print(multiline_str)\n",
        "print(unicode)\n",
        "print(raw_str)"
      ],
      "metadata": {
        "colab": {
          "base_uri": "https://localhost:8080/"
        },
        "id": "xkJhNknbBzdm",
        "outputId": "a933001e-4745-4e39-9b76-537727625030"
      },
      "execution_count": null,
      "outputs": [
        {
          "output_type": "stream",
          "name": "stdout",
          "text": [
            "This is Python\n",
            "This is Python\n",
            "C\n",
            "This is a multiline string with more than one line code.\n",
            "😀😆🤣\n",
            "raw \\n string\n"
          ]
        }
      ]
    },
    {
      "cell_type": "code",
      "source": [
        "a = True + 4\n",
        "b = False + 10\n",
        "\n",
        "print(\"a :\",a)\n",
        "print(\"b :\",b)"
      ],
      "metadata": {
        "colab": {
          "base_uri": "https://localhost:8080/"
        },
        "id": "nhoV0zHVB3OA",
        "outputId": "85eb8ad5-429a-41df-f3df-a1defe91a457"
      },
      "execution_count": null,
      "outputs": [
        {
          "output_type": "stream",
          "name": "stdout",
          "text": [
            "a : 5\n",
            "b : 10\n"
          ]
        }
      ]
    },
    {
      "cell_type": "code",
      "source": [
        "# None Literal\n",
        "a = None\n",
        "print(a)"
      ],
      "metadata": {
        "colab": {
          "base_uri": "https://localhost:8080/"
        },
        "id": "1eTwy_LSB6co",
        "outputId": "8a1b03b0-9696-44cf-ff09-b922c751ffc6"
      },
      "execution_count": null,
      "outputs": [
        {
          "output_type": "stream",
          "name": "stdout",
          "text": [
            "None\n"
          ]
        }
      ]
    },
    {
      "cell_type": "markdown",
      "source": [
        "Operators - Used to perform the operation on variables"
      ],
      "metadata": {
        "id": "GJDtBchrCFVM"
      }
    },
    {
      "cell_type": "code",
      "source": [
        " # Arithmetric Operator\n",
        "print(5+6)\n",
        "\n",
        "print(5-6)\n",
        "\n",
        "print(5*6)\n",
        "\n",
        "print(5/2)\n",
        "\n",
        "print(5//2)  #Integer Division - rounds off the result to integer\n",
        "\n",
        "print(5%2)\n",
        "\n",
        "print(5**2)"
      ],
      "metadata": {
        "colab": {
          "base_uri": "https://localhost:8080/"
        },
        "id": "p6Ci3MSYB_ZI",
        "outputId": "e01fdd97-b51f-4dcb-c2c3-457c495d3811"
      },
      "execution_count": null,
      "outputs": [
        {
          "output_type": "stream",
          "name": "stdout",
          "text": [
            "11\n",
            "-1\n",
            "30\n",
            "2.5\n",
            "2\n",
            "1\n",
            "25\n"
          ]
        }
      ]
    },
    {
      "cell_type": "code",
      "source": [
        "# Relational Operator\n",
        "\n",
        "print(4>5)\n",
        "\n",
        "print(4<5)\n",
        "\n",
        "print(4>=5)\n",
        "\n",
        "print(4<=5)\n",
        "\n",
        "print(4==4)\n",
        "\n",
        "print(4!=4)"
      ],
      "metadata": {
        "colab": {
          "base_uri": "https://localhost:8080/"
        },
        "id": "63EYm_z8CKfL",
        "outputId": "72935c7a-3676-4d1b-d8f3-4085f5993881"
      },
      "execution_count": null,
      "outputs": [
        {
          "output_type": "stream",
          "name": "stdout",
          "text": [
            "False\n",
            "True\n",
            "False\n",
            "True\n",
            "True\n",
            "False\n"
          ]
        }
      ]
    },
    {
      "cell_type": "code",
      "source": [
        "# Logical Operator\n",
        "\n",
        "print(1 and 0)\n",
        "\n",
        "print(1 or 0)\n",
        "\n",
        "print(not 1)"
      ],
      "metadata": {
        "colab": {
          "base_uri": "https://localhost:8080/"
        },
        "id": "ESPTYXScCOWE",
        "outputId": "bf6309cc-74f6-4d87-9328-1caed0ee17b2"
      },
      "execution_count": null,
      "outputs": [
        {
          "output_type": "stream",
          "name": "stdout",
          "text": [
            "0\n",
            "1\n",
            "False\n"
          ]
        }
      ]
    },
    {
      "cell_type": "code",
      "source": [
        "# Bitwise Operator\n",
        "\n",
        "# Bitwise and\n",
        "print( 2 & 3)\n",
        "\n",
        "# Bitwise or\n",
        "print( 2 | 3)\n",
        "\n",
        "# Bitwise xor - same then 0, different then 1\n",
        "print( 2 ^ 3)\n",
        "\n",
        "# Bitwise not\n",
        "print( ~ 2)\n",
        "\n",
        "# Bitwise left shift\n",
        "print( 4 >> 2)\n",
        "\n",
        "# Bitwise right shift\n",
        "print( 5 << 2)"
      ],
      "metadata": {
        "colab": {
          "base_uri": "https://localhost:8080/"
        },
        "id": "PkEOse0uCScH",
        "outputId": "c118aa88-a225-460b-e670-0923638f8e88"
      },
      "execution_count": null,
      "outputs": [
        {
          "output_type": "stream",
          "name": "stdout",
          "text": [
            "2\n",
            "3\n",
            "1\n",
            "-3\n",
            "1\n",
            "20\n"
          ]
        }
      ]
    },
    {
      "cell_type": "code",
      "source": [
        "# Assignment Operator\n",
        "\n",
        "# =\n",
        "# a = 2\n",
        "\n",
        "a = 2\n",
        "\n",
        "# a = a % 2\n",
        "a %= 2\n",
        "\n",
        "print(a)"
      ],
      "metadata": {
        "colab": {
          "base_uri": "https://localhost:8080/"
        },
        "id": "hCRcKML7CXPJ",
        "outputId": "1dbed35a-04c2-45f9-96a8-4b8d61c11496"
      },
      "execution_count": null,
      "outputs": [
        {
          "output_type": "stream",
          "name": "stdout",
          "text": [
            "0\n"
          ]
        }
      ]
    },
    {
      "cell_type": "code",
      "source": [
        "# Membership Operator\n",
        "\n",
        "# in/not in\n",
        "\n",
        "print('D' in 'Delhi')\n",
        "\n",
        "print('D' not in 'Delhi')\n",
        "\n",
        "print(1 in [2,3,4,5,6])"
      ],
      "metadata": {
        "colab": {
          "base_uri": "https://localhost:8080/"
        },
        "id": "YgcW9Kb5Ccl5",
        "outputId": "dacf5dd4-4e5f-4374-bd98-1b3cf210401d"
      },
      "execution_count": null,
      "outputs": [
        {
          "output_type": "stream",
          "name": "stdout",
          "text": [
            "True\n",
            "False\n",
            "False\n"
          ]
        }
      ]
    },
    {
      "cell_type": "code",
      "source": [
        "# Program to find the sum of a 3 digit number entered by user\n",
        "\n",
        "number = int(input('Enter a 3 digit number '))\n",
        "\n",
        "# 345 % 10 -> 5 remainder\n",
        "a = number%10\n",
        "\n",
        "number = number // 10 # round off ans will be 34\n",
        "\n",
        "# 34 % 10 -> 4\n",
        "b = number%10\n",
        "\n",
        "number = number // 10\n",
        "\n",
        "# 3 % 10 -> 3\n",
        "c = number%10\n",
        "\n",
        "print( a + b + c )\n"
      ],
      "metadata": {
        "colab": {
          "base_uri": "https://localhost:8080/"
        },
        "id": "2KWqDFGMCgPQ",
        "outputId": "c24d5eaa-0213-41b8-c916-f7ece7e4a3e7"
      },
      "execution_count": null,
      "outputs": [
        {
          "output_type": "stream",
          "name": "stdout",
          "text": [
            "Enter a 3 digit number 123\n",
            "6\n"
          ]
        }
      ]
    },
    {
      "cell_type": "markdown",
      "source": [
        "If-else -> Used to handle branching"
      ],
      "metadata": {
        "id": "pqUzR2zsCmTh"
      }
    },
    {
      "cell_type": "code",
      "source": [
        "# login program and indentation\n",
        "# email -> xyz@gmail.com\n",
        "# password -> 1234\n",
        "\n",
        "email = input('enter your email')\n",
        "password = input('enter password')\n",
        "\n",
        "if email == 'xyz@gmail.com' and password == '1234':\n",
        "    print('Welcome')\n",
        "elif email == 'xyz@gmail.com' and password != '1234':\n",
        "    #tell the user\n",
        "    print('incorrect password')\n",
        "    password = input('enter password again')\n",
        "    if password == '1234':\n",
        "        print('Welcome,finally!')\n",
        "    else:\n",
        "        print('again incorrect password')\n",
        "else:\n",
        "    print('Not Correct')"
      ],
      "metadata": {
        "colab": {
          "base_uri": "https://localhost:8080/"
        },
        "id": "RpDpU8IbCsMO",
        "outputId": "dd9f6b8f-b13f-4218-ba01-f144d022d4d7"
      },
      "execution_count": null,
      "outputs": [
        {
          "output_type": "stream",
          "name": "stdout",
          "text": [
            "enter your emailxyz@gmail.com\n",
            "enter password1234\n",
            "Welcome\n"
          ]
        }
      ]
    },
    {
      "cell_type": "code",
      "source": [
        "# program min of 3 number\n",
        "\n",
        "a = int(input('enter first number '))\n",
        "b = int(input('enter second number '))\n",
        "c = int(input('enter third number '))\n",
        "\n",
        "if a<b and a<c:\n",
        "    print('smallest is',a)\n",
        "elif b<c:\n",
        "    print('smallest is',b)\n",
        "else:\n",
        "    print('smallest is',c)"
      ],
      "metadata": {
        "colab": {
          "base_uri": "https://localhost:8080/"
        },
        "id": "riaHMQ9FC089",
        "outputId": "0b31ef10-e727-4d2c-df13-be56b8eef9db"
      },
      "execution_count": null,
      "outputs": [
        {
          "output_type": "stream",
          "name": "stdout",
          "text": [
            "enter first number 1\n",
            "enter second number 2\n",
            "enter third number 3\n",
            "smallest is 1\n"
          ]
        }
      ]
    },
    {
      "cell_type": "code",
      "source": [
        "# program menu driven calculator\n",
        "\n",
        "fnum = int(input('enter first number '))\n",
        "snum = int(input('enter second number '))\n",
        "op = input('enter the operation ')\n",
        "\n",
        "if op == '+':\n",
        "  print(fnum+snum)\n",
        "elif op == '-':\n",
        "  print(fnum-snum)\n",
        "elif op == '*':\n",
        "  print(fnum*snum)\n",
        "else:\n",
        "  print(fnum/snum)"
      ],
      "metadata": {
        "id": "eTlTwvVHC5Yo"
      },
      "execution_count": null,
      "outputs": []
    },
    {
      "cell_type": "markdown",
      "source": [
        "Modules in Python - just like libraries, Its basically python file with some functions\n",
        "\n",
        "\n",
        "\n",
        "*   Math\n",
        "*   Keyword\n",
        "\n",
        "*   Random\n",
        "*   Datetime\n",
        "\n",
        "\n",
        "\n",
        "\n",
        "\n",
        "\n"
      ],
      "metadata": {
        "id": "MOMFRNQ5C-rp"
      }
    },
    {
      "cell_type": "code",
      "source": [
        "# math\n",
        "import math\n",
        "\n",
        "math.factorial(5)\n",
        "math.floor(6.9)\n",
        "math.sqrt(196)"
      ],
      "metadata": {
        "colab": {
          "base_uri": "https://localhost:8080/"
        },
        "id": "izCd6nXxC_33",
        "outputId": "88e01aea-b5a7-4027-903c-aa28320be361"
      },
      "execution_count": null,
      "outputs": [
        {
          "output_type": "execute_result",
          "data": {
            "text/plain": [
              "14.0"
            ]
          },
          "metadata": {},
          "execution_count": 37
        }
      ]
    },
    {
      "cell_type": "code",
      "source": [
        "# keyword\n",
        "import keyword\n",
        "print(keyword.kwlist)"
      ],
      "metadata": {
        "colab": {
          "base_uri": "https://localhost:8080/"
        },
        "id": "azmsqMBoGhSB",
        "outputId": "640179a3-a493-4d72-d786-631c4bcd5289"
      },
      "execution_count": null,
      "outputs": [
        {
          "output_type": "stream",
          "name": "stdout",
          "text": [
            "['False', 'None', 'True', 'and', 'as', 'assert', 'async', 'await', 'break', 'class', 'continue', 'def', 'del', 'elif', 'else', 'except', 'finally', 'for', 'from', 'global', 'if', 'import', 'in', 'is', 'lambda', 'nonlocal', 'not', 'or', 'pass', 'raise', 'return', 'try', 'while', 'with', 'yield']\n"
          ]
        }
      ]
    },
    {
      "cell_type": "code",
      "source": [
        "# random\n",
        "\n",
        "import random\n",
        "print(random.randint(1,100))"
      ],
      "metadata": {
        "colab": {
          "base_uri": "https://localhost:8080/"
        },
        "id": "TSM9DIYZGmJC",
        "outputId": "65c553d9-e161-4698-a1d5-010ae1e7d123"
      },
      "execution_count": null,
      "outputs": [
        {
          "output_type": "stream",
          "name": "stdout",
          "text": [
            "54\n"
          ]
        }
      ]
    },
    {
      "cell_type": "code",
      "source": [
        "# datetime\n",
        "\n",
        "import datetime\n",
        "print(datetime.datetime.now())"
      ],
      "metadata": {
        "colab": {
          "base_uri": "https://localhost:8080/"
        },
        "id": "k7n7yM6EGp4a",
        "outputId": "8c403a9f-f327-478a-b5bf-0838e34ef5cd"
      },
      "execution_count": null,
      "outputs": [
        {
          "output_type": "stream",
          "name": "stdout",
          "text": [
            "2025-01-23 16:54:09.499236\n"
          ]
        }
      ]
    },
    {
      "cell_type": "markdown",
      "source": [
        "Loops in Python\n",
        "\n",
        "Example - Any website displaying products\n",
        "\n",
        "\n",
        "*   While Loop\n",
        "*   For Loop\n",
        "\n"
      ],
      "metadata": {
        "id": "e-DMaj5iGtlb"
      }
    },
    {
      "cell_type": "code",
      "source": [
        "# While lloop example -> program to print the table\n",
        "\n",
        "number = int(input('enter the number '))\n",
        "i = 1\n",
        "while i<11:\n",
        "  print(number,'*',i,'=',number * i)\n",
        "  i += 1"
      ],
      "metadata": {
        "colab": {
          "base_uri": "https://localhost:8080/"
        },
        "id": "VlQrF6EHG21J",
        "outputId": "5e20ab1f-a25d-4fa0-a371-ac1876c46c2c"
      },
      "execution_count": null,
      "outputs": [
        {
          "output_type": "stream",
          "name": "stdout",
          "text": [
            "enter the number 3\n",
            "3 * 1 = 3\n",
            "3 * 2 = 6\n",
            "3 * 3 = 9\n",
            "3 * 4 = 12\n",
            "3 * 5 = 15\n",
            "3 * 6 = 18\n",
            "3 * 7 = 21\n",
            "3 * 8 = 24\n",
            "3 * 9 = 27\n",
            "3 * 10 = 30\n"
          ]
        }
      ]
    },
    {
      "cell_type": "code",
      "source": [
        "# While with else\n",
        "\n",
        "x = 1\n",
        "\n",
        "while x < 3:\n",
        "  print(x)\n",
        "  x += 1\n",
        "else:\n",
        "  print('limit crossed')"
      ],
      "metadata": {
        "colab": {
          "base_uri": "https://localhost:8080/"
        },
        "id": "UjNlCY8LH5Mb",
        "outputId": "0a3dd752-ace7-4fa4-cf67-a65e63bf1f1c"
      },
      "execution_count": null,
      "outputs": [
        {
          "output_type": "stream",
          "name": "stdout",
          "text": [
            "1\n",
            "2\n",
            "limit crossed\n"
          ]
        }
      ]
    },
    {
      "cell_type": "code",
      "source": [
        "# Guessing game\n",
        "# generate a random integer between 1 to 100\n",
        "import random\n",
        "jackpot = random.randint(1,100)\n",
        "\n",
        "guess = int(input('guess the number : '))\n",
        "counter = 1\n",
        "while guess != jackpot:\n",
        "    if guess < jackpot:\n",
        "        print('guess higher')\n",
        "    else:\n",
        "        print('guess lower')\n",
        "\n",
        "    guess = int(input('guess the number : '))\n",
        "    counter += 1\n",
        "\n",
        "else:\n",
        "    print('correct guess')\n",
        "    print('attempts',counter)\n"
      ],
      "metadata": {
        "colab": {
          "base_uri": "https://localhost:8080/"
        },
        "id": "42M4rqa-H9iC",
        "outputId": "5aeaf94c-f489-4001-d566-faae7c0b846a"
      },
      "execution_count": null,
      "outputs": [
        {
          "output_type": "stream",
          "name": "stdout",
          "text": [
            "guess the number : 34\n",
            "guess higher\n",
            "guess the number : 45\n",
            "guess higher\n",
            "guess the number : 48\n",
            "guess higher\n",
            "guess the number : 79\n",
            "guess higher\n",
            "guess the number : 89\n",
            "guess lower\n",
            "guess the number : 75\n",
            "guess higher\n",
            "guess the number : 83\n",
            "guess higher\n",
            "guess the number : 85\n",
            "correct guess\n",
            "attempts 8\n"
          ]
        }
      ]
    },
    {
      "cell_type": "code",
      "source": [
        "# For Loop\n",
        "\n",
        "for i in range (1,11,2):\n",
        "  print(i)"
      ],
      "metadata": {
        "colab": {
          "base_uri": "https://localhost:8080/"
        },
        "id": "1Rcy3gFcQDBl",
        "outputId": "a677b83c-7698-40e1-da7a-822bd2a311c1"
      },
      "execution_count": null,
      "outputs": [
        {
          "output_type": "stream",
          "name": "stdout",
          "text": [
            "1\n",
            "3\n",
            "5\n",
            "7\n",
            "9\n"
          ]
        }
      ]
    },
    {
      "cell_type": "code",
      "source": [
        "for i in range (10,0,-1):\n",
        "  print(i)"
      ],
      "metadata": {
        "colab": {
          "base_uri": "https://localhost:8080/"
        },
        "id": "1w_Dg5JbQZZO",
        "outputId": "1b3b9d88-e71a-4e04-955e-24583e25f39d"
      },
      "execution_count": null,
      "outputs": [
        {
          "output_type": "stream",
          "name": "stdout",
          "text": [
            "10\n",
            "9\n",
            "8\n",
            "7\n",
            "6\n",
            "5\n",
            "4\n",
            "3\n",
            "2\n",
            "1\n"
          ]
        }
      ]
    },
    {
      "cell_type": "code",
      "source": [
        "for i in 'Delhi' :\n",
        "  print(i)"
      ],
      "metadata": {
        "colab": {
          "base_uri": "https://localhost:8080/"
        },
        "id": "M7jMbYUWQ5YS",
        "outputId": "064bccce-72d3-465c-d052-494c21946ed9"
      },
      "execution_count": null,
      "outputs": [
        {
          "output_type": "stream",
          "name": "stdout",
          "text": [
            "D\n",
            "e\n",
            "l\n",
            "h\n",
            "i\n"
          ]
        }
      ]
    },
    {
      "cell_type": "code",
      "source": [
        "# for loop example\n",
        "# Program - The current population of a town is 10000 The population of the town is increasing at the rate of 10 percent per year.\n",
        "# You have to write a progrm to find out the population to find out the population at the end of the last 10 yrs.\n",
        "\n",
        "curr_pop = 10000\n",
        "\n",
        "for i in range (10,0,-1):\n",
        "  print(i,curr_pop)\n",
        "  curr_pop = curr_pop /1.1"
      ],
      "metadata": {
        "colab": {
          "base_uri": "https://localhost:8080/"
        },
        "id": "LOetHtXuRMVS",
        "outputId": "97182f1a-5663-4d6e-9fb9-945ef00a8edd"
      },
      "execution_count": null,
      "outputs": [
        {
          "output_type": "stream",
          "name": "stdout",
          "text": [
            "10 10000\n",
            "9 9090.90909090909\n",
            "8 8264.462809917353\n",
            "7 7513.148009015775\n",
            "6 6830.134553650703\n",
            "5 6209.213230591548\n",
            "4 5644.739300537771\n",
            "3 5131.5811823070635\n",
            "2 4665.07380209733\n",
            "1 4240.976183724845\n"
          ]
        }
      ]
    },
    {
      "cell_type": "markdown",
      "source": [
        "Sequence sum"
      ],
      "metadata": {
        "id": "34zCG2gxFX-4"
      }
    },
    {
      "cell_type": "code",
      "source": [
        "# 1/1!+2/2!=3/3!+....\n",
        "\n",
        "n = int(input('enter n '))\n",
        "\n",
        "result = 0\n",
        "fact = 1\n",
        "\n",
        "for i in range (1,n+1):\n",
        "  fact = fact * i\n",
        "  result = result + i/fact\n",
        "\n",
        "print(result)"
      ],
      "metadata": {
        "colab": {
          "base_uri": "https://localhost:8080/"
        },
        "id": "VeAK1DIKEb_f",
        "outputId": "a2844ebb-5e87-4123-fccc-c4dfffdc2a9c"
      },
      "execution_count": null,
      "outputs": [
        {
          "output_type": "stream",
          "name": "stdout",
          "text": [
            "enter n 5\n",
            "2.708333333333333\n"
          ]
        }
      ]
    },
    {
      "cell_type": "markdown",
      "source": [
        "Nested Loops"
      ],
      "metadata": {
        "id": "t731gSNGG1-s"
      }
    },
    {
      "cell_type": "code",
      "source": [
        "# Example -> unique pairs\n",
        "\n",
        "for i in range (1,5):\n",
        "  for j in range (1,5):\n",
        "    print(i,j)"
      ],
      "metadata": {
        "colab": {
          "base_uri": "https://localhost:8080/"
        },
        "id": "bB4eGmWPHHTd",
        "outputId": "530c102a-18a4-4104-d2ae-e22233b23dc8"
      },
      "execution_count": null,
      "outputs": [
        {
          "output_type": "stream",
          "name": "stdout",
          "text": [
            "1 1\n",
            "1 2\n",
            "1 3\n",
            "1 4\n",
            "2 1\n",
            "2 2\n",
            "2 3\n",
            "2 4\n",
            "3 1\n",
            "3 2\n",
            "3 3\n",
            "3 4\n",
            "4 1\n",
            "4 2\n",
            "4 3\n",
            "4 4\n"
          ]
        }
      ]
    },
    {
      "cell_type": "code",
      "source": [
        "# Pattern 1 - Astric Pattern\n",
        "# *\n",
        "# **\n",
        "# ***\n",
        "\n",
        "rows = int(input('enter number of rows '))\n",
        "\n",
        "for i in range (1,rows+1):\n",
        "   for j in range (1,i+1):\n",
        "    print('*',end='')\n",
        "    print()"
      ],
      "metadata": {
        "colab": {
          "base_uri": "https://localhost:8080/"
        },
        "id": "Ya6LGA2nGowt",
        "outputId": "feedb515-6f31-4324-82f4-8d7b1e97ce58"
      },
      "execution_count": null,
      "outputs": [
        {
          "output_type": "stream",
          "name": "stdout",
          "text": [
            "enter number of rows 3\n",
            "*\n",
            "**\n",
            "***\n"
          ]
        }
      ]
    },
    {
      "cell_type": "code",
      "source": [
        "# Pattern 2\n",
        "# 1\n",
        "# 121\n",
        "# 12321\n",
        "\n",
        "rows = int(input('enter number of rows '))\n",
        "\n",
        "for i in range (1,rows+1):\n",
        "  for j in range (1,i+1):\n",
        "    print(j,end='')\n",
        "  for k in range (i-1,0,-1):\n",
        "    print(k,end='')\n",
        "  print()"
      ],
      "metadata": {
        "colab": {
          "base_uri": "https://localhost:8080/"
        },
        "id": "4Kxy34iXJ2aU",
        "outputId": "6454e567-3937-48eb-834e-d97c878eabb3"
      },
      "execution_count": null,
      "outputs": [
        {
          "output_type": "stream",
          "name": "stdout",
          "text": [
            "enter number of rows 4\n",
            "1\n",
            "121\n",
            "12321\n",
            "1234321\n"
          ]
        }
      ]
    },
    {
      "cell_type": "markdown",
      "source": [
        "Loop Control Statement\n",
        "\n",
        "\n",
        "*   Break\n",
        "*   Continous\n",
        "*   Pass\n",
        "\n",
        "\n",
        "\n"
      ],
      "metadata": {
        "id": "o_lkjzl_LIPX"
      }
    },
    {
      "cell_type": "code",
      "source": [
        "# Break -> To stop the execution at given condition\n",
        "# Example -> Database Searching(Linear searching)\n",
        "\n",
        "for i in range(1,10):\n",
        "  if i == 5:\n",
        "    break\n",
        "  print(i)"
      ],
      "metadata": {
        "colab": {
          "base_uri": "https://localhost:8080/"
        },
        "id": "Rp5eagRcLagt",
        "outputId": "042a1bf7-760f-4ef2-99d4-f5759c6f00ea"
      },
      "execution_count": null,
      "outputs": [
        {
          "output_type": "stream",
          "name": "stdout",
          "text": [
            "1\n",
            "2\n",
            "3\n",
            "4\n"
          ]
        }
      ]
    },
    {
      "cell_type": "code",
      "source": [
        "# Print the all prime numbers in given range which is entered by user\n",
        "\n",
        "lower = int(input('enter lower range '))\n",
        "upper = int(input('enter upper range '))\n",
        "\n",
        "for i in range (lower,upper+1):\n",
        "  for j in range (2,i):\n",
        "    if i%j == 0:\n",
        "      break\n",
        "  else:\n",
        "    print(i)"
      ],
      "metadata": {
        "colab": {
          "base_uri": "https://localhost:8080/"
        },
        "id": "8KZzpOdwL7hC",
        "outputId": "c00bd408-8b56-48d3-ee25-2b313db45bd8"
      },
      "execution_count": null,
      "outputs": [
        {
          "output_type": "stream",
          "name": "stdout",
          "text": [
            "enter lower range 4\n",
            "enter upper range 10\n",
            "5\n",
            "7\n"
          ]
        }
      ]
    },
    {
      "cell_type": "code",
      "source": [
        "# Continue -> Skips the code where continue statement is wrote and continues the further execution\n",
        "# Example -> E-commerce website where you want to display products whose stock is 0\n",
        "\n",
        "for i in range (1,10):\n",
        "  if i == 5:\n",
        "    continue\n",
        "  print(i)"
      ],
      "metadata": {
        "colab": {
          "base_uri": "https://localhost:8080/"
        },
        "id": "eAgOzumGOsgW",
        "outputId": "379914a3-d065-46db-a6a6-30f98bc7e548"
      },
      "execution_count": null,
      "outputs": [
        {
          "output_type": "stream",
          "name": "stdout",
          "text": [
            "1\n",
            "2\n",
            "3\n",
            "4\n",
            "6\n",
            "7\n",
            "8\n",
            "9\n"
          ]
        }
      ]
    },
    {
      "cell_type": "code",
      "source": [
        "# Pass\n",
        "\n",
        "for i in range (1,10):\n",
        "  pass"
      ],
      "metadata": {
        "id": "5zE_SaMgPcOI"
      },
      "execution_count": null,
      "outputs": []
    },
    {
      "cell_type": "markdown",
      "source": [
        "Strings - Strings are sequence of Characters\n",
        "\n",
        "In Python specifically,strings are a sequence of unicode characters(16-bit char set)\n"
      ],
      "metadata": {
        "id": "5FtRWEB3PoXM"
      }
    },
    {
      "cell_type": "markdown",
      "source": [
        "Creating Strings"
      ],
      "metadata": {
        "id": "DZHKp9uhQ6ZG"
      }
    },
    {
      "cell_type": "code",
      "source": [
        "# '' and \"\" are used to avoid confusion , example -> It's raining outside\n",
        "\n",
        "s = 'hello'\n",
        "s = \"hello\"\n",
        "\n",
        "# ''' for multiline strings\n",
        "\n",
        "s = '''hello'''\n",
        "s = \"\"\"hello\"\"\"\n",
        "\n",
        "# using str function\n",
        "\n",
        "s = str('hello')\n",
        "print(s)"
      ],
      "metadata": {
        "colab": {
          "base_uri": "https://localhost:8080/"
        },
        "id": "HnJbx0ypRBgJ",
        "outputId": "2134dd16-13bd-4a1a-f25b-3a80ff282c5b"
      },
      "execution_count": null,
      "outputs": [
        {
          "output_type": "stream",
          "name": "stdout",
          "text": [
            "hello\n"
          ]
        }
      ]
    },
    {
      "cell_type": "markdown",
      "source": [
        "Accessing Substrings from String"
      ],
      "metadata": {
        "id": "XTyxWLfhSGjD"
      }
    },
    {
      "cell_type": "code",
      "source": [
        "# Extracting the character from given string is called indexing\n",
        "# Positive Indexing - assigning the index from 0 to so on and starts from right to left\n",
        "\n",
        "s = 'hello world'\n",
        "print(s[6])\n",
        "\n",
        "# Negative Indexing - assigning the index from -1 to so on and starts from left to right\n",
        "\n",
        "v = 'siddhi and varun'\n",
        "print(v[-3])"
      ],
      "metadata": {
        "colab": {
          "base_uri": "https://localhost:8080/"
        },
        "id": "IzIAVP_aSMXD",
        "outputId": "ef33dde8-b9f5-4937-d0fe-7182a61aae33"
      },
      "execution_count": null,
      "outputs": [
        {
          "output_type": "stream",
          "name": "stdout",
          "text": [
            "w\n",
            "r\n"
          ]
        }
      ]
    },
    {
      "cell_type": "code",
      "source": [
        "# Slicing -> Extracting substrings from given string\n",
        "\n",
        "s = 'hello world'\n",
        "print(s[2:3])\n",
        "print(s[2:8])\n",
        "print(s[2:]) # skips first 2\n",
        "print(s[:5]) # skips last 5\n",
        "print(s[:])  # print entire string\n",
        "print(s[0:6:2]) #skips every second character from left to right\n",
        "print(s[6:0:-2]) #skips every second character from right to left\n",
        "print(s[::-1]) # to reverse string\n",
        "print(s[-5:])\n",
        "print(s[-1:-6:-1])"
      ],
      "metadata": {
        "colab": {
          "base_uri": "https://localhost:8080/"
        },
        "id": "hl0gj9ezTiv2",
        "outputId": "1a91fd9a-cc19-43a2-90f0-f7ca08430aad"
      },
      "execution_count": null,
      "outputs": [
        {
          "output_type": "stream",
          "name": "stdout",
          "text": [
            "l\n",
            "llo wo\n",
            "llo world\n",
            "hello\n",
            "hello world\n",
            "hlo\n",
            "wol\n",
            "dlrow olleh\n",
            "world\n",
            "dlrow\n"
          ]
        }
      ]
    },
    {
      "cell_type": "markdown",
      "source": [
        "Editing and Deleting on Strings"
      ],
      "metadata": {
        "id": "-lcOLBaiYsvT"
      }
    },
    {
      "cell_type": "code",
      "source": [
        "# Editing Strings\n",
        "s = 'hello world'\n",
        "s[0] = 'H'\n",
        "# Python strings are immutable(cants be changed once made)"
      ],
      "metadata": {
        "colab": {
          "base_uri": "https://localhost:8080/",
          "height": 183
        },
        "id": "8Tb5yLgbYyKD",
        "outputId": "edefde8e-bf68-485d-8923-fbd24436c60c"
      },
      "execution_count": null,
      "outputs": [
        {
          "output_type": "error",
          "ename": "TypeError",
          "evalue": "'str' object does not support item assignment",
          "traceback": [
            "\u001b[0;31m---------------------------------------------------------------------------\u001b[0m",
            "\u001b[0;31mTypeError\u001b[0m                                 Traceback (most recent call last)",
            "\u001b[0;32m<ipython-input-28-ab76afa198f4>\u001b[0m in \u001b[0;36m<cell line: 0>\u001b[0;34m()\u001b[0m\n\u001b[1;32m      1\u001b[0m \u001b[0ms\u001b[0m \u001b[0;34m=\u001b[0m \u001b[0;34m'hello world'\u001b[0m\u001b[0;34m\u001b[0m\u001b[0;34m\u001b[0m\u001b[0m\n\u001b[0;32m----> 2\u001b[0;31m \u001b[0ms\u001b[0m\u001b[0;34m[\u001b[0m\u001b[0;36m0\u001b[0m\u001b[0;34m]\u001b[0m \u001b[0;34m=\u001b[0m \u001b[0;34m'H'\u001b[0m\u001b[0;34m\u001b[0m\u001b[0;34m\u001b[0m\u001b[0m\n\u001b[0m\u001b[1;32m      3\u001b[0m \u001b[0;31m# Python strings are immutable(cants be changed once made)\u001b[0m\u001b[0;34m\u001b[0m\u001b[0;34m\u001b[0m\u001b[0m\n",
            "\u001b[0;31mTypeError\u001b[0m: 'str' object does not support item assignment"
          ]
        }
      ]
    },
    {
      "cell_type": "code",
      "source": [
        "# Deleting Strings\n",
        "s = 'hello world'\n",
        "del s\n",
        "print(s)"
      ],
      "metadata": {
        "colab": {
          "base_uri": "https://localhost:8080/",
          "height": 183
        },
        "id": "ZhszIYanZJ4h",
        "outputId": "b968385c-fd24-4f95-8a03-5b631e287edd"
      },
      "execution_count": null,
      "outputs": [
        {
          "output_type": "error",
          "ename": "NameError",
          "evalue": "name 's' is not defined",
          "traceback": [
            "\u001b[0;31m---------------------------------------------------------------------------\u001b[0m",
            "\u001b[0;31mNameError\u001b[0m                                 Traceback (most recent call last)",
            "\u001b[0;32m<ipython-input-31-9ae37fbf1c6c>\u001b[0m in \u001b[0;36m<cell line: 0>\u001b[0;34m()\u001b[0m\n\u001b[1;32m      1\u001b[0m \u001b[0ms\u001b[0m \u001b[0;34m=\u001b[0m \u001b[0;34m'hello world'\u001b[0m\u001b[0;34m\u001b[0m\u001b[0;34m\u001b[0m\u001b[0m\n\u001b[1;32m      2\u001b[0m \u001b[0;32mdel\u001b[0m \u001b[0ms\u001b[0m\u001b[0;34m\u001b[0m\u001b[0;34m\u001b[0m\u001b[0m\n\u001b[0;32m----> 3\u001b[0;31m \u001b[0mprint\u001b[0m\u001b[0;34m(\u001b[0m\u001b[0ms\u001b[0m\u001b[0;34m)\u001b[0m\u001b[0;34m\u001b[0m\u001b[0;34m\u001b[0m\u001b[0m\n\u001b[0m",
            "\u001b[0;31mNameError\u001b[0m: name 's' is not defined"
          ]
        }
      ]
    },
    {
      "cell_type": "markdown",
      "source": [
        "Operations on Strings"
      ],
      "metadata": {
        "id": "RGuSUnaya1zx"
      }
    },
    {
      "cell_type": "markdown",
      "source": [
        "Arithmetic Operators"
      ],
      "metadata": {
        "id": "1LxgJj9Fa6l_"
      }
    },
    {
      "cell_type": "code",
      "source": [
        "# + to concat strings\n",
        "# * to print in multiple times\n",
        "print('delhi' + ' ' + 'mumbai')\n",
        "print('delhi'*5)"
      ],
      "metadata": {
        "colab": {
          "base_uri": "https://localhost:8080/"
        },
        "id": "7VXFoDbIbCNU",
        "outputId": "9ce85e5c-4556-4910-849b-3fd85b944dc7"
      },
      "execution_count": null,
      "outputs": [
        {
          "output_type": "stream",
          "name": "stdout",
          "text": [
            "delhi mumbai\n",
            "delhidelhidelhidelhidelhi\n"
          ]
        }
      ]
    },
    {
      "cell_type": "markdown",
      "source": [
        "Relational Operator"
      ],
      "metadata": {
        "id": "sQNShLV3bMI9"
      }
    },
    {
      "cell_type": "code",
      "source": [
        "# We compare strings based on lexiography based on ascii value\n",
        "'delhi' == 'mumbai'\n",
        "'mumbai' == 'mumbai'\n",
        "'mumbai' != 'pune'\n",
        "'mumbai' > 'pune'\n",
        "'Pune' > 'pune'"
      ],
      "metadata": {
        "colab": {
          "base_uri": "https://localhost:8080/"
        },
        "id": "_akAbx0Qbhos",
        "outputId": "0265b901-bbdd-4b07-c5fe-49aeef3acdc9"
      },
      "execution_count": null,
      "outputs": [
        {
          "output_type": "execute_result",
          "data": {
            "text/plain": [
              "False"
            ]
          },
          "metadata": {},
          "execution_count": 34
        }
      ]
    },
    {
      "cell_type": "markdown",
      "source": [
        "Logical Operators"
      ],
      "metadata": {
        "id": "dMAYYs9AcKOo"
      }
    },
    {
      "cell_type": "code",
      "source": [
        "# In python if string is empty we consider it as false and if it consists the characters then we consider as true\n",
        "'hello' and 'world'"
      ],
      "metadata": {
        "colab": {
          "base_uri": "https://localhost:8080/",
          "height": 36
        },
        "id": "6VRXxPlScMso",
        "outputId": "ef6a0ab2-ca0a-4b66-da17-75892cfb40b0"
      },
      "execution_count": null,
      "outputs": [
        {
          "output_type": "execute_result",
          "data": {
            "text/plain": [
              "'world'"
            ],
            "application/vnd.google.colaboratory.intrinsic+json": {
              "type": "string"
            }
          },
          "metadata": {},
          "execution_count": 35
        }
      ]
    },
    {
      "cell_type": "code",
      "source": [
        "'hello' or 'world'"
      ],
      "metadata": {
        "colab": {
          "base_uri": "https://localhost:8080/",
          "height": 36
        },
        "id": "Iz9TWj9hcoLN",
        "outputId": "bc10ddaa-07de-4391-9c05-088d79b03ca9"
      },
      "execution_count": null,
      "outputs": [
        {
          "output_type": "execute_result",
          "data": {
            "text/plain": [
              "'hello'"
            ],
            "application/vnd.google.colaboratory.intrinsic+json": {
              "type": "string"
            }
          },
          "metadata": {},
          "execution_count": 36
        }
      ]
    },
    {
      "cell_type": "code",
      "source": [
        "'' and 'world'"
      ],
      "metadata": {
        "colab": {
          "base_uri": "https://localhost:8080/",
          "height": 36
        },
        "id": "JoCQ2TNwctpD",
        "outputId": "7dbeaebd-e084-4318-cb6a-f08bfdc97c4c"
      },
      "execution_count": null,
      "outputs": [
        {
          "output_type": "execute_result",
          "data": {
            "text/plain": [
              "''"
            ],
            "application/vnd.google.colaboratory.intrinsic+json": {
              "type": "string"
            }
          },
          "metadata": {},
          "execution_count": 37
        }
      ]
    },
    {
      "cell_type": "code",
      "source": [
        "'' or 'world'"
      ],
      "metadata": {
        "colab": {
          "base_uri": "https://localhost:8080/",
          "height": 36
        },
        "id": "NYxeaZcQc1BV",
        "outputId": "720f4e5f-e249-4738-db88-59e0082aabc8"
      },
      "execution_count": null,
      "outputs": [
        {
          "output_type": "execute_result",
          "data": {
            "text/plain": [
              "'world'"
            ],
            "application/vnd.google.colaboratory.intrinsic+json": {
              "type": "string"
            }
          },
          "metadata": {},
          "execution_count": 38
        }
      ]
    },
    {
      "cell_type": "code",
      "source": [
        "not ''"
      ],
      "metadata": {
        "colab": {
          "base_uri": "https://localhost:8080/"
        },
        "id": "8tlvKUaudCpT",
        "outputId": "c0913be2-b0cd-427e-8664-a981ee639b0c"
      },
      "execution_count": null,
      "outputs": [
        {
          "output_type": "execute_result",
          "data": {
            "text/plain": [
              "True"
            ]
          },
          "metadata": {},
          "execution_count": 39
        }
      ]
    },
    {
      "cell_type": "code",
      "source": [
        "not 'hello'"
      ],
      "metadata": {
        "colab": {
          "base_uri": "https://localhost:8080/"
        },
        "id": "VlJkPA5bdHIA",
        "outputId": "f08cf356-8efd-46bd-9fd6-ca3f71306e9d"
      },
      "execution_count": null,
      "outputs": [
        {
          "output_type": "execute_result",
          "data": {
            "text/plain": [
              "False"
            ]
          },
          "metadata": {},
          "execution_count": 40
        }
      ]
    },
    {
      "cell_type": "markdown",
      "source": [
        "Loops on Strings"
      ],
      "metadata": {
        "id": "I8AmYAwseCGE"
      }
    },
    {
      "cell_type": "code",
      "source": [
        "# Strings in python are itterable and loops can be used for strings\n",
        "\n",
        "for i in 'hello':\n",
        "  print(i)"
      ],
      "metadata": {
        "colab": {
          "base_uri": "https://localhost:8080/"
        },
        "id": "uF7Zhr8TdYL9",
        "outputId": "264290f9-578d-4f7a-f922-dbaa95af5ac6"
      },
      "execution_count": null,
      "outputs": [
        {
          "output_type": "stream",
          "name": "stdout",
          "text": [
            "h\n",
            "e\n",
            "l\n",
            "l\n",
            "o\n"
          ]
        }
      ]
    },
    {
      "cell_type": "markdown",
      "source": [
        "Membership Operator"
      ],
      "metadata": {
        "id": "QJuuRtAIeGrx"
      }
    },
    {
      "cell_type": "code",
      "source": [
        "'D' in 'delhi'"
      ],
      "metadata": {
        "colab": {
          "base_uri": "https://localhost:8080/"
        },
        "id": "zT3dplERd68K",
        "outputId": "ae10b7df-9e92-43d4-a288-4b3c5bc3824e"
      },
      "execution_count": null,
      "outputs": [
        {
          "output_type": "execute_result",
          "data": {
            "text/plain": [
              "False"
            ]
          },
          "metadata": {},
          "execution_count": 42
        }
      ]
    },
    {
      "cell_type": "markdown",
      "source": [
        "Common Functions - Applicable on all data types"
      ],
      "metadata": {
        "id": "iACCT5n4eLic"
      }
    },
    {
      "cell_type": "code",
      "source": [
        "# len\n",
        "len('hello world')"
      ],
      "metadata": {
        "colab": {
          "base_uri": "https://localhost:8080/"
        },
        "id": "FJ5WfElreKPG",
        "outputId": "aa11923b-494c-4293-d61f-b04f0d844fe9"
      },
      "execution_count": null,
      "outputs": [
        {
          "output_type": "execute_result",
          "data": {
            "text/plain": [
              "11"
            ]
          },
          "metadata": {},
          "execution_count": 43
        }
      ]
    },
    {
      "cell_type": "code",
      "source": [
        "# max -> based on ascii value\n",
        "max('hello world')"
      ],
      "metadata": {
        "colab": {
          "base_uri": "https://localhost:8080/",
          "height": 36
        },
        "id": "Ecvyiwltel3U",
        "outputId": "5c362655-10d2-4ba2-8f60-621878445d07"
      },
      "execution_count": null,
      "outputs": [
        {
          "output_type": "execute_result",
          "data": {
            "text/plain": [
              "'w'"
            ],
            "application/vnd.google.colaboratory.intrinsic+json": {
              "type": "string"
            }
          },
          "metadata": {},
          "execution_count": 44
        }
      ]
    },
    {
      "cell_type": "code",
      "source": [
        "# min -> based on ascii value\n",
        "min('hello world')"
      ],
      "metadata": {
        "colab": {
          "base_uri": "https://localhost:8080/",
          "height": 36
        },
        "id": "MMAKoxu-euXC",
        "outputId": "45767335-23d2-4314-8b29-c7b453beae9e"
      },
      "execution_count": null,
      "outputs": [
        {
          "output_type": "execute_result",
          "data": {
            "text/plain": [
              "' '"
            ],
            "application/vnd.google.colaboratory.intrinsic+json": {
              "type": "string"
            }
          },
          "metadata": {},
          "execution_count": 45
        }
      ]
    },
    {
      "cell_type": "code",
      "source": [
        "# sorting\n",
        "sorted('hello world')\n",
        "sorted('hello world',reverse=True)"
      ],
      "metadata": {
        "colab": {
          "base_uri": "https://localhost:8080/"
        },
        "id": "RcYZyF6ge5kq",
        "outputId": "cc9c95e7-906d-4fef-a2f4-1becfd90ee11"
      },
      "execution_count": null,
      "outputs": [
        {
          "output_type": "execute_result",
          "data": {
            "text/plain": [
              "['w', 'r', 'o', 'o', 'l', 'l', 'l', 'h', 'e', 'd', ' ']"
            ]
          },
          "metadata": {},
          "execution_count": 47
        }
      ]
    },
    {
      "cell_type": "markdown",
      "source": [
        "Functions only applicable on Strings"
      ],
      "metadata": {
        "id": "cKQAr9UUfK7w"
      }
    },
    {
      "cell_type": "code",
      "source": [
        "# Capitalize\n",
        "s = 'hello world'\n",
        "s.capitalize()"
      ],
      "metadata": {
        "colab": {
          "base_uri": "https://localhost:8080/",
          "height": 36
        },
        "id": "lW4qm1JRfUAi",
        "outputId": "0f83dd03-8c34-4a97-b780-9ddb7cf30880"
      },
      "execution_count": null,
      "outputs": [
        {
          "output_type": "execute_result",
          "data": {
            "text/plain": [
              "'Hello world'"
            ],
            "application/vnd.google.colaboratory.intrinsic+json": {
              "type": "string"
            }
          },
          "metadata": {},
          "execution_count": 48
        }
      ]
    },
    {
      "cell_type": "code",
      "source": [
        "# Title\n",
        "s = 'hello world'\n",
        "s.title()"
      ],
      "metadata": {
        "colab": {
          "base_uri": "https://localhost:8080/",
          "height": 36
        },
        "id": "H-ZMk9j0fhML",
        "outputId": "434283c3-703c-40a4-a9e9-dbc9e8a8fd30"
      },
      "execution_count": null,
      "outputs": [
        {
          "output_type": "execute_result",
          "data": {
            "text/plain": [
              "'Hello World'"
            ],
            "application/vnd.google.colaboratory.intrinsic+json": {
              "type": "string"
            }
          },
          "metadata": {},
          "execution_count": 49
        }
      ]
    },
    {
      "cell_type": "code",
      "source": [
        "# Upper\n",
        "s = 'hello world'\n",
        "s.upper()"
      ],
      "metadata": {
        "colab": {
          "base_uri": "https://localhost:8080/",
          "height": 36
        },
        "id": "F0qUmH1kfsOQ",
        "outputId": "d4a9d43a-406c-4603-f96d-2decb4a53a25"
      },
      "execution_count": null,
      "outputs": [
        {
          "output_type": "execute_result",
          "data": {
            "text/plain": [
              "'HELLO WORLD'"
            ],
            "application/vnd.google.colaboratory.intrinsic+json": {
              "type": "string"
            }
          },
          "metadata": {},
          "execution_count": 50
        }
      ]
    },
    {
      "cell_type": "code",
      "source": [
        "# Lower\n",
        "s = 'HELLO WORLD'\n",
        "s.lower()"
      ],
      "metadata": {
        "colab": {
          "base_uri": "https://localhost:8080/",
          "height": 36
        },
        "id": "dciaLg6ogB8F",
        "outputId": "278b95fd-104f-4649-9229-a0f07f7f0a97"
      },
      "execution_count": null,
      "outputs": [
        {
          "output_type": "execute_result",
          "data": {
            "text/plain": [
              "'hello world'"
            ],
            "application/vnd.google.colaboratory.intrinsic+json": {
              "type": "string"
            }
          },
          "metadata": {},
          "execution_count": 52
        }
      ]
    },
    {
      "cell_type": "code",
      "source": [
        "# Swapcase\n",
        "'Hello World'.swapcase()"
      ],
      "metadata": {
        "colab": {
          "base_uri": "https://localhost:8080/",
          "height": 36
        },
        "id": "qnwC7UoigOEx",
        "outputId": "a66ed25c-a6b9-4593-bf40-07b8a8940dd9"
      },
      "execution_count": null,
      "outputs": [
        {
          "output_type": "execute_result",
          "data": {
            "text/plain": [
              "'hELLO wORLD'"
            ],
            "application/vnd.google.colaboratory.intrinsic+json": {
              "type": "string"
            }
          },
          "metadata": {},
          "execution_count": 53
        }
      ]
    },
    {
      "cell_type": "code",
      "source": [
        "# Count\n",
        "'my name is siddhi'.count('i')"
      ],
      "metadata": {
        "colab": {
          "base_uri": "https://localhost:8080/"
        },
        "id": "j3OWNvBFxkW4",
        "outputId": "682a1e8f-9bbe-471a-c9e5-9f2b2be858b9"
      },
      "execution_count": null,
      "outputs": [
        {
          "output_type": "execute_result",
          "data": {
            "text/plain": [
              "3"
            ]
          },
          "metadata": {},
          "execution_count": 54
        }
      ]
    },
    {
      "cell_type": "code",
      "source": [
        "# Find\n",
        "'my name is siddhi'.find('is')"
      ],
      "metadata": {
        "colab": {
          "base_uri": "https://localhost:8080/"
        },
        "id": "c4VLc83mxrEr",
        "outputId": "69a0c948-01cb-4e6a-b40e-f4d31cb450d2"
      },
      "execution_count": null,
      "outputs": [
        {
          "output_type": "execute_result",
          "data": {
            "text/plain": [
              "8"
            ]
          },
          "metadata": {},
          "execution_count": 55
        }
      ]
    },
    {
      "cell_type": "code",
      "source": [
        "# Index\n",
        "'my name is siddhi'.index('is')"
      ],
      "metadata": {
        "colab": {
          "base_uri": "https://localhost:8080/"
        },
        "id": "2m3vR8dhx582",
        "outputId": "cba88815-afa1-44f0-e861-234200cca722"
      },
      "execution_count": null,
      "outputs": [
        {
          "output_type": "execute_result",
          "data": {
            "text/plain": [
              "8"
            ]
          },
          "metadata": {},
          "execution_count": 56
        }
      ]
    },
    {
      "cell_type": "code",
      "source": [
        "# endswith\n",
        "'my name is siddhi'.endswith('hi')"
      ],
      "metadata": {
        "colab": {
          "base_uri": "https://localhost:8080/"
        },
        "id": "IHTZQMvdyQEQ",
        "outputId": "1225e9f0-45cc-463d-d7b6-b68899c25483"
      },
      "execution_count": null,
      "outputs": [
        {
          "output_type": "execute_result",
          "data": {
            "text/plain": [
              "True"
            ]
          },
          "metadata": {},
          "execution_count": 57
        }
      ]
    },
    {
      "cell_type": "code",
      "source": [
        "# startswith\n",
        "'my name is siddhi'.startswith('my')"
      ],
      "metadata": {
        "colab": {
          "base_uri": "https://localhost:8080/"
        },
        "id": "qY8L2j9fyauW",
        "outputId": "9290242a-d4ad-42aa-a846-0d58d558cbd5"
      },
      "execution_count": null,
      "outputs": [
        {
          "output_type": "execute_result",
          "data": {
            "text/plain": [
              "True"
            ]
          },
          "metadata": {},
          "execution_count": 58
        }
      ]
    },
    {
      "cell_type": "code",
      "source": [
        "#format\n",
        "name = 'siddhi'\n",
        "gender = 'female'\n",
        "\n",
        "'Hi my name is {} and I am a {}'.format(name,gender)"
      ],
      "metadata": {
        "colab": {
          "base_uri": "https://localhost:8080/",
          "height": 36
        },
        "id": "jiAyunmAykA7",
        "outputId": "123cac81-47db-4158-c669-52163597610a"
      },
      "execution_count": null,
      "outputs": [
        {
          "output_type": "execute_result",
          "data": {
            "text/plain": [
              "'Hi my name is siddhi and I am a female'"
            ],
            "application/vnd.google.colaboratory.intrinsic+json": {
              "type": "string"
            }
          },
          "metadata": {},
          "execution_count": 59
        }
      ]
    },
    {
      "cell_type": "code",
      "source": [
        "# isalnum\n",
        "'siddhi1234'.isalnum()"
      ],
      "metadata": {
        "colab": {
          "base_uri": "https://localhost:8080/"
        },
        "id": "AlLQBV7XzCq7",
        "outputId": "2b0be6b7-48c2-4683-98dc-03f4b0f61d70"
      },
      "execution_count": null,
      "outputs": [
        {
          "output_type": "execute_result",
          "data": {
            "text/plain": [
              "True"
            ]
          },
          "metadata": {},
          "execution_count": 60
        }
      ]
    },
    {
      "cell_type": "code",
      "source": [
        "#isalpha\n",
        "'siddhi'.isalpha()"
      ],
      "metadata": {
        "colab": {
          "base_uri": "https://localhost:8080/"
        },
        "id": "pt2TbbYfzcUs",
        "outputId": "5f5a3356-eeee-49fe-fe21-9ba980d91421"
      },
      "execution_count": null,
      "outputs": [
        {
          "output_type": "execute_result",
          "data": {
            "text/plain": [
              "True"
            ]
          },
          "metadata": {},
          "execution_count": 61
        }
      ]
    },
    {
      "cell_type": "code",
      "source": [
        "# isdigit\n",
        "'123abc'.isdigit()"
      ],
      "metadata": {
        "colab": {
          "base_uri": "https://localhost:8080/"
        },
        "id": "jAhxkV01zl2g",
        "outputId": "f5299bc4-1862-4739-d974-afd5b0d8e3cd"
      },
      "execution_count": null,
      "outputs": [
        {
          "output_type": "execute_result",
          "data": {
            "text/plain": [
              "False"
            ]
          },
          "metadata": {},
          "execution_count": 62
        }
      ]
    },
    {
      "cell_type": "code",
      "source": [
        "# isidentifier\n",
        "'first_name'.isidentifier()"
      ],
      "metadata": {
        "colab": {
          "base_uri": "https://localhost:8080/"
        },
        "id": "vJgxtYtBzx-3",
        "outputId": "f9b49785-6b58-4b9d-d0ed-e20718c24758"
      },
      "execution_count": null,
      "outputs": [
        {
          "output_type": "execute_result",
          "data": {
            "text/plain": [
              "True"
            ]
          },
          "metadata": {},
          "execution_count": 64
        }
      ]
    },
    {
      "cell_type": "code",
      "source": [
        "# Split\n",
        "'hi my name is siddhi'.split()\n",
        "'hi my name is siddhi'.split('i')"
      ],
      "metadata": {
        "colab": {
          "base_uri": "https://localhost:8080/"
        },
        "id": "Do9X_h_tz8Fx",
        "outputId": "2964f2ab-7708-4f38-ecf1-7a5beed0ed9d"
      },
      "execution_count": null,
      "outputs": [
        {
          "output_type": "execute_result",
          "data": {
            "text/plain": [
              "['h', ' my name ', 's s', 'ddh', '']"
            ]
          },
          "metadata": {},
          "execution_count": 66
        }
      ]
    },
    {
      "cell_type": "code",
      "source": [
        "# Join\n",
        "' '.join(['hi', 'my', 'name', 'is', 'siddhi'])"
      ],
      "metadata": {
        "colab": {
          "base_uri": "https://localhost:8080/",
          "height": 36
        },
        "id": "6W6Gmm7R0Peq",
        "outputId": "5dd0f868-6d2a-4599-f390-b154c8117fca"
      },
      "execution_count": null,
      "outputs": [
        {
          "output_type": "execute_result",
          "data": {
            "text/plain": [
              "'hi my name is siddhi'"
            ],
            "application/vnd.google.colaboratory.intrinsic+json": {
              "type": "string"
            }
          },
          "metadata": {},
          "execution_count": 67
        }
      ]
    },
    {
      "cell_type": "code",
      "source": [
        "# Replace\n",
        "'hi my name is siddhi'.replace('siddhi','varun')"
      ],
      "metadata": {
        "colab": {
          "base_uri": "https://localhost:8080/",
          "height": 36
        },
        "id": "EjRtUCri0YLt",
        "outputId": "4473e487-a18e-4cae-8179-3cae248f7ef8"
      },
      "execution_count": null,
      "outputs": [
        {
          "output_type": "execute_result",
          "data": {
            "text/plain": [
              "'hi my name is varun'"
            ],
            "application/vnd.google.colaboratory.intrinsic+json": {
              "type": "string"
            }
          },
          "metadata": {},
          "execution_count": 68
        }
      ]
    },
    {
      "cell_type": "code",
      "source": [
        "# Strip\n",
        "# Example - in website for login pages\n",
        "'siddhi              '.strip()"
      ],
      "metadata": {
        "colab": {
          "base_uri": "https://localhost:8080/",
          "height": 36
        },
        "id": "uT1-S8zu0gEP",
        "outputId": "d5ea24d3-55f4-4308-b856-48a8320455dd"
      },
      "execution_count": null,
      "outputs": [
        {
          "output_type": "execute_result",
          "data": {
            "text/plain": [
              "'siddhi'"
            ],
            "application/vnd.google.colaboratory.intrinsic+json": {
              "type": "string"
            }
          },
          "metadata": {},
          "execution_count": 69
        }
      ]
    },
    {
      "cell_type": "code",
      "source": [
        "# Find the length of a given string without using the len() function\n",
        "s = input('enter the string ')\n",
        "\n",
        "counter = 0\n",
        "\n",
        "for i in s:\n",
        "  counter += 1\n",
        "\n",
        "print('length of string is',counter)"
      ],
      "metadata": {
        "colab": {
          "base_uri": "https://localhost:8080/"
        },
        "id": "p49rTVt5VoKc",
        "outputId": "d3105e8b-489a-4e3b-e520-15effb96b33b"
      },
      "execution_count": null,
      "outputs": [
        {
          "output_type": "stream",
          "name": "stdout",
          "text": [
            "enter the string Siddhi Patwardhan\n",
            "length of string is 17\n"
          ]
        }
      ]
    },
    {
      "cell_type": "code",
      "source": [
        "# Extract username from a given email\n",
        "# Eg the email is xyz@gmail.com\n",
        "# then the username should be xyz\n",
        "\n",
        "s = input('enter the email ')\n",
        "\n",
        "pos = s.index('@') # find out the index of @\n",
        "print(s[0:pos]) # slice it from that position and print"
      ],
      "metadata": {
        "colab": {
          "base_uri": "https://localhost:8080/"
        },
        "id": "nJonbZ4AWzI5",
        "outputId": "bc293adc-dddc-4455-aadd-7dfa64481478"
      },
      "execution_count": null,
      "outputs": [
        {
          "output_type": "stream",
          "name": "stdout",
          "text": [
            "enter the email xyz@gmail.com\n",
            "xyz\n"
          ]
        }
      ]
    },
    {
      "cell_type": "code",
      "source": [
        "# Count the frequency of a particular character in a provided string\n",
        "# Eg 'hello how are you' is a string, the frequency of h in this string is 2.\n",
        "\n",
        "s = input('enter the string ')\n",
        "term = input('what would like to search for ')\n",
        "\n",
        "counter = 0\n",
        "for i in s:\n",
        "  if i == term:\n",
        "    counter += 1\n",
        "\n",
        "print('frequency ',counter)"
      ],
      "metadata": {
        "colab": {
          "base_uri": "https://localhost:8080/"
        },
        "id": "u0t3sGpvXZKw",
        "outputId": "c4a8b2df-46e8-4a7b-803b-ea346849cbb6"
      },
      "execution_count": null,
      "outputs": [
        {
          "output_type": "stream",
          "name": "stdout",
          "text": [
            "enter the string hello how are you\n",
            "what would like to search for o\n",
            "frequency  3\n"
          ]
        }
      ]
    },
    {
      "cell_type": "code",
      "source": [
        "# Write a program which can remove a particular character from a string\n",
        "\n",
        "s = input('enter the string ')\n",
        "term = input('what would like to remove ')\n",
        "\n",
        "result = '' # create an empty string\n",
        "\n",
        "for i in s: # add loop to current string\n",
        "  if i != term:\n",
        "    result = result + i\n",
        "\n",
        "print(result)"
      ],
      "metadata": {
        "colab": {
          "base_uri": "https://localhost:8080/"
        },
        "id": "x89xs7phYEzs",
        "outputId": "152a1dcc-42a2-4f81-8687-d9afa796e97d"
      },
      "execution_count": null,
      "outputs": [
        {
          "output_type": "stream",
          "name": "stdout",
          "text": [
            "enter the string siddhi\n",
            "what would like to remove i\n",
            "sddh\n"
          ]
        }
      ]
    },
    {
      "cell_type": "code",
      "source": [
        "# Write a program that can check whether a given string is palindrome or not\n",
        "# malayalam\n",
        "\n",
        "s = input('enter the string ')\n",
        "flag = True\n",
        "for i in range (0,len(s)//2):\n",
        "  if s[i] != s[len(s) - i -1]:\n",
        "    flag = False\n",
        "    print('not a palindrome')\n",
        "    break\n",
        "\n",
        "if flag:\n",
        "  print('palindrome')"
      ],
      "metadata": {
        "colab": {
          "base_uri": "https://localhost:8080/"
        },
        "id": "L40QczwfYryi",
        "outputId": "9ab96976-5fdb-42a2-87ca-e75266632f2f"
      },
      "execution_count": null,
      "outputs": [
        {
          "output_type": "stream",
          "name": "stdout",
          "text": [
            "enter the string racecar\n",
            "palindrome\n"
          ]
        }
      ]
    },
    {
      "cell_type": "code",
      "source": [
        "# Write a program to count the number of words in a string without split()\n",
        "\n",
        "s = input('enter the string ')\n",
        "\n",
        "L = []\n",
        "temp = ''\n",
        "for i in s:\n",
        "\n",
        "  if i != ' ':\n",
        "    temp = temp + i\n",
        "  else:\n",
        "    L.append(temp)\n",
        "    temp = ''\n",
        "\n",
        "L.append(temp)\n",
        "print(L)"
      ],
      "metadata": {
        "id": "Ji4jMoMsbHfX",
        "colab": {
          "base_uri": "https://localhost:8080/"
        },
        "outputId": "c43d3a73-ed15-448d-a81f-69173f29bdbe"
      },
      "execution_count": null,
      "outputs": [
        {
          "output_type": "stream",
          "name": "stdout",
          "text": [
            "enter the string hii how are you\n",
            "['hii', 'how', 'are', 'you']\n"
          ]
        }
      ]
    },
    {
      "cell_type": "code",
      "source": [
        "# Write a python program to convert a string to tiitle case without using the title()\n",
        "\n",
        "s = input('enter the string ')\n",
        "\n",
        "L = []\n",
        "for i in s.split():\n",
        "  L.append(i[0].upper() + i[1:].lower())\n",
        "\n",
        "print(\" \".join(L))"
      ],
      "metadata": {
        "colab": {
          "base_uri": "https://localhost:8080/"
        },
        "id": "v2elNJRwfPBL",
        "outputId": "d8681ddb-49b4-4b15-db53-77adabbc5806"
      },
      "execution_count": null,
      "outputs": [
        {
          "output_type": "stream",
          "name": "stdout",
          "text": [
            "enter the string hii my name is siddhi\n",
            "Hii My Name Is Siddhi\n"
          ]
        }
      ]
    },
    {
      "cell_type": "code",
      "source": [
        "# Write a program that can convert an integer to string\n",
        "\n",
        "number = int(input('enter the number '))\n",
        "\n",
        "digits = '0123456789'\n",
        "result = ''\n",
        "while number != 0:\n",
        "  result = digits[number % 10] + result\n",
        "  number = number//10\n",
        "\n",
        "print(result)\n",
        "print(type(result))"
      ],
      "metadata": {
        "colab": {
          "base_uri": "https://localhost:8080/"
        },
        "id": "q-8kJKHyhDB0",
        "outputId": "167c6609-4dc0-4afe-f4b4-2631617d703a"
      },
      "execution_count": null,
      "outputs": [
        {
          "output_type": "stream",
          "name": "stdout",
          "text": [
            "enter the number 234\n",
            "234\n",
            "<class 'str'>\n"
          ]
        }
      ]
    }
  ]
}